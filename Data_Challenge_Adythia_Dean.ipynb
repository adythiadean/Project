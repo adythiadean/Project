{
  "nbformat": 4,
  "nbformat_minor": 0,
  "metadata": {
    "colab": {
      "name": "Data Challenge-Adythia Dean.ipynb",
      "provenance": [],
      "include_colab_link": true
    },
    "kernelspec": {
      "name": "python2",
      "display_name": "Python 2"
    }
  },
  "cells": [
    {
      "cell_type": "markdown",
      "metadata": {
        "id": "view-in-github",
        "colab_type": "text"
      },
      "source": [
        "<a href=\"https://colab.research.google.com/github/adythiadean/Project/blob/master/Data_Challenge_Adythia_Dean.ipynb\" target=\"_parent\"><img src=\"https://colab.research.google.com/assets/colab-badge.svg\" alt=\"Open In Colab\"/></a>"
      ]
    },
    {
      "cell_type": "markdown",
      "metadata": {
        "id": "55v5C9vC1XUa",
        "colab_type": "text"
      },
      "source": [
        "# Data Challenge - Traveloka Customer Analysis"
      ]
    },
    {
      "cell_type": "markdown",
      "metadata": {
        "id": "gcAl5ldl1eAH",
        "colab_type": "text"
      },
      "source": [
        "In this notebook we will work with a Traveloka customer lifecycle dataset. We will perform exploratory data analysis and visualisation to understand some characteristics from Traveloka customer and generate relevant strategies to improve the business"
      ]
    },
    {
      "cell_type": "markdown",
      "metadata": {
        "id": "8mSlc4zB1lYo",
        "colab_type": "text"
      },
      "source": [
        "## Connecting to BigQuery and importing the data"
      ]
    },
    {
      "cell_type": "code",
      "metadata": {
        "id": "qxANHv5L5PdM",
        "colab_type": "code",
        "outputId": "efd026ab-4652-436b-c318-6bc55d75f6a3",
        "colab": {
          "base_uri": "https://localhost:8080/",
          "height": 34
        }
      },
      "source": [
        "from google.colab import auth\n",
        "auth.authenticate_user()\n",
        "print('Authenticated')\n",
        "\n",
        "project_id='tvlk-data-accom-dev'"
      ],
      "execution_count": 0,
      "outputs": [
        {
          "output_type": "stream",
          "text": [
            "Authenticated\n"
          ],
          "name": "stdout"
        }
      ]
    },
    {
      "cell_type": "code",
      "metadata": {
        "id": "M8PDofWG5U4K",
        "colab_type": "code",
        "colab": {}
      },
      "source": [
        "# Import packages\n",
        "import numpy as np \n",
        "import pandas as pd\n",
        "import matplotlib.pyplot as plt\n",
        "import seaborn as sns\n"
      ],
      "execution_count": 0,
      "outputs": []
    },
    {
      "cell_type": "code",
      "metadata": {
        "id": "aMqNQROI6biW",
        "colab_type": "code",
        "colab": {}
      },
      "source": [
        "#Query the data\n",
        "from google.cloud import bigquery\n",
        "client=bigquery.Client(project=project_id)\n",
        "\n",
        "sql=\"\"\"\n",
        "    SELECT *\n",
        "FROM `tvlk-data-mktscience-dev.data_challenge.customer_lifecycle`\n",
        "\"\"\"\n",
        "\n",
        "df=client.query(sql).to_dataframe()"
      ],
      "execution_count": 0,
      "outputs": []
    },
    {
      "cell_type": "code",
      "metadata": {
        "id": "ifw4JGZO72Ye",
        "colab_type": "code",
        "outputId": "ba9369f9-c42f-4a2e-8170-865f10760a44",
        "colab": {
          "base_uri": "https://localhost:8080/",
          "height": 68
        }
      },
      "source": [
        "# Display dataset dimension\n",
        "print('Number of attributes/columns : {}' .format(df.shape[1]))\n",
        "print('Number of rows : {}' .format(df.shape[0]))\n",
        "print('Unique Profile ID : {} '.format(df['profile_id'].nunique()))"
      ],
      "execution_count": 0,
      "outputs": [
        {
          "output_type": "stream",
          "text": [
            "Number of attributes/columns : 42\n",
            "Number of rows : 1672331\n",
            "Unique Profile ID : 172233 \n"
          ],
          "name": "stdout"
        }
      ]
    },
    {
      "cell_type": "markdown",
      "metadata": {
        "id": "lsNcETg96DVx",
        "colab_type": "text"
      },
      "source": [
        "We can observe here that in the original dataset, each profile id may have multiple entries as the data capture user summary for each 'snapshot month'. We are more interested on latest data to know current condition of Traveloka customer, thus we need to revise the query"
      ]
    },
    {
      "cell_type": "code",
      "metadata": {
        "id": "xKbOOcbJ7Pgk",
        "colab_type": "code",
        "colab": {}
      },
      "source": [
        "#Select only the latest data\n",
        "sql=\"\"\"\n",
        "     select * except(rn) from\n",
        "     (\n",
        "     SELECT *,row_number() over(partition by profile_id order by snapshot_month desc) as rn\n",
        "FROM `tvlk-data-mktscience-dev.data_challenge.customer_lifecycle`\n",
        "      )\n",
        "      where rn=1\n",
        "\"\"\"\n",
        "df_latest=client.query(sql).to_dataframe()"
      ],
      "execution_count": 0,
      "outputs": []
    },
    {
      "cell_type": "code",
      "metadata": {
        "id": "Sw5F3oLA79AM",
        "colab_type": "code",
        "outputId": "114ec129-7404-4581-c49a-84c15bd9ef1e",
        "colab": {
          "base_uri": "https://localhost:8080/",
          "height": 68
        }
      },
      "source": [
        "# Latest data only\n",
        "print('Number of attributes/columns : {}' .format(df_latest.shape[1]))\n",
        "print('Number of rows : {}' .format(df_latest.shape[0]))\n",
        "print('Unique Profile ID : {} '.format(df_latest['profile_id'].nunique()))"
      ],
      "execution_count": 0,
      "outputs": [
        {
          "output_type": "stream",
          "text": [
            "Number of attributes/columns : 42\n",
            "Number of rows : 172233\n",
            "Unique Profile ID : 172233 \n"
          ],
          "name": "stdout"
        }
      ]
    },
    {
      "cell_type": "markdown",
      "metadata": {
        "id": "_o9H-gzU8AK-",
        "colab_type": "text"
      },
      "source": [
        "In this modified dataset, we have data consisting unique profile ID for each row on the latest snapshot month. We have now loaded the data, let's get a feeling of what the data looks like"
      ]
    },
    {
      "cell_type": "code",
      "metadata": {
        "id": "rofo-fsjCPhr",
        "colab_type": "code",
        "outputId": "1a1e1f93-374a-4a6f-dc55-a936006eb9d6",
        "colab": {
          "base_uri": "https://localhost:8080/",
          "height": 309
        }
      },
      "source": [
        "df_latest.head(5)"
      ],
      "execution_count": 0,
      "outputs": [
        {
          "output_type": "execute_result",
          "data": {
            "text/html": [
              "<div>\n",
              "<style scoped>\n",
              "    .dataframe tbody tr th:only-of-type {\n",
              "        vertical-align: middle;\n",
              "    }\n",
              "\n",
              "    .dataframe tbody tr th {\n",
              "        vertical-align: top;\n",
              "    }\n",
              "\n",
              "    .dataframe thead th {\n",
              "        text-align: right;\n",
              "    }\n",
              "</style>\n",
              "<table border=\"1\" class=\"dataframe\">\n",
              "  <thead>\n",
              "    <tr style=\"text-align: right;\">\n",
              "      <th></th>\n",
              "      <th>row_num</th>\n",
              "      <th>profile_id</th>\n",
              "      <th>last_ads_id</th>\n",
              "      <th>snapshot_month</th>\n",
              "      <th>churn_cut_off</th>\n",
              "      <th>first_issued_month</th>\n",
              "      <th>last_issued_month</th>\n",
              "      <th>lifecycle</th>\n",
              "      <th>bucket_gbv_usd_all</th>\n",
              "      <th>bucket_issued_1y</th>\n",
              "      <th>bucket_visit_1y</th>\n",
              "      <th>bucket_search_1y</th>\n",
              "      <th>bucket_gbv_1y</th>\n",
              "      <th>bucket_netrev_1y</th>\n",
              "      <th>bucket_coupon_1y</th>\n",
              "      <th>visit_count_all</th>\n",
              "      <th>search_count_all</th>\n",
              "      <th>issued_count_all</th>\n",
              "      <th>gbv_usd_all</th>\n",
              "      <th>net_revenue_usd_all</th>\n",
              "      <th>coupon_usage_usd_all</th>\n",
              "      <th>burnt_external_points_all</th>\n",
              "      <th>burnt_internal_points_all</th>\n",
              "      <th>earned_points_all</th>\n",
              "      <th>selling_points_all</th>\n",
              "      <th>country</th>\n",
              "      <th>is_registered</th>\n",
              "      <th>is_subscribed</th>\n",
              "      <th>issued_count</th>\n",
              "      <th>sum_gbv_usd</th>\n",
              "      <th>net_revenue_usd</th>\n",
              "      <th>search_count</th>\n",
              "      <th>visit_count</th>\n",
              "      <th>coupon_usage_usd</th>\n",
              "      <th>earned_points</th>\n",
              "      <th>burnt_internal_points</th>\n",
              "      <th>burnt_external_points</th>\n",
              "      <th>selling_points</th>\n",
              "      <th>is_customer</th>\n",
              "      <th>is_churn</th>\n",
              "      <th>product</th>\n",
              "      <th>product_breadth</th>\n",
              "    </tr>\n",
              "  </thead>\n",
              "  <tbody>\n",
              "    <tr>\n",
              "      <th>0</th>\n",
              "      <td>1455216</td>\n",
              "      <td>10144</td>\n",
              "      <td>None</td>\n",
              "      <td>2015-12-01</td>\n",
              "      <td>0</td>\n",
              "      <td>None</td>\n",
              "      <td>None</td>\n",
              "      <td>00. known user</td>\n",
              "      <td>0</td>\n",
              "      <td>0</td>\n",
              "      <td>2</td>\n",
              "      <td>4</td>\n",
              "      <td>0</td>\n",
              "      <td>0</td>\n",
              "      <td>0</td>\n",
              "      <td>6.0</td>\n",
              "      <td>17.0</td>\n",
              "      <td>NaN</td>\n",
              "      <td>NaN</td>\n",
              "      <td>NaN</td>\n",
              "      <td>NaN</td>\n",
              "      <td>None</td>\n",
              "      <td>None</td>\n",
              "      <td>None</td>\n",
              "      <td>None</td>\n",
              "      <td>ID</td>\n",
              "      <td>False</td>\n",
              "      <td>0</td>\n",
              "      <td>NaN</td>\n",
              "      <td>NaN</td>\n",
              "      <td>NaN</td>\n",
              "      <td>17</td>\n",
              "      <td>3</td>\n",
              "      <td>NaN</td>\n",
              "      <td>None</td>\n",
              "      <td>None</td>\n",
              "      <td>None</td>\n",
              "      <td>None</td>\n",
              "      <td>False</td>\n",
              "      <td>False</td>\n",
              "      <td>all</td>\n",
              "      <td>0</td>\n",
              "    </tr>\n",
              "    <tr>\n",
              "      <th>1</th>\n",
              "      <td>1488411</td>\n",
              "      <td>10161</td>\n",
              "      <td>None</td>\n",
              "      <td>2015-12-01</td>\n",
              "      <td>0</td>\n",
              "      <td>None</td>\n",
              "      <td>None</td>\n",
              "      <td>00. known user</td>\n",
              "      <td>0</td>\n",
              "      <td>0</td>\n",
              "      <td>2</td>\n",
              "      <td>5</td>\n",
              "      <td>0</td>\n",
              "      <td>0</td>\n",
              "      <td>0</td>\n",
              "      <td>5.0</td>\n",
              "      <td>56.0</td>\n",
              "      <td>NaN</td>\n",
              "      <td>NaN</td>\n",
              "      <td>NaN</td>\n",
              "      <td>NaN</td>\n",
              "      <td>None</td>\n",
              "      <td>None</td>\n",
              "      <td>None</td>\n",
              "      <td>None</td>\n",
              "      <td>ID</td>\n",
              "      <td>False</td>\n",
              "      <td>0</td>\n",
              "      <td>NaN</td>\n",
              "      <td>NaN</td>\n",
              "      <td>NaN</td>\n",
              "      <td>0</td>\n",
              "      <td>0</td>\n",
              "      <td>NaN</td>\n",
              "      <td>None</td>\n",
              "      <td>None</td>\n",
              "      <td>None</td>\n",
              "      <td>None</td>\n",
              "      <td>False</td>\n",
              "      <td>False</td>\n",
              "      <td>all</td>\n",
              "      <td>0</td>\n",
              "    </tr>\n",
              "    <tr>\n",
              "      <th>2</th>\n",
              "      <td>359548</td>\n",
              "      <td>10174</td>\n",
              "      <td>None</td>\n",
              "      <td>2015-12-01</td>\n",
              "      <td>0</td>\n",
              "      <td>None</td>\n",
              "      <td>None</td>\n",
              "      <td>00. known user</td>\n",
              "      <td>0</td>\n",
              "      <td>0</td>\n",
              "      <td>2</td>\n",
              "      <td>2</td>\n",
              "      <td>0</td>\n",
              "      <td>0</td>\n",
              "      <td>0</td>\n",
              "      <td>6.0</td>\n",
              "      <td>3.0</td>\n",
              "      <td>NaN</td>\n",
              "      <td>NaN</td>\n",
              "      <td>NaN</td>\n",
              "      <td>NaN</td>\n",
              "      <td>None</td>\n",
              "      <td>None</td>\n",
              "      <td>None</td>\n",
              "      <td>None</td>\n",
              "      <td>ID</td>\n",
              "      <td>False</td>\n",
              "      <td>0</td>\n",
              "      <td>NaN</td>\n",
              "      <td>NaN</td>\n",
              "      <td>NaN</td>\n",
              "      <td>3</td>\n",
              "      <td>6</td>\n",
              "      <td>NaN</td>\n",
              "      <td>None</td>\n",
              "      <td>None</td>\n",
              "      <td>None</td>\n",
              "      <td>None</td>\n",
              "      <td>False</td>\n",
              "      <td>False</td>\n",
              "      <td>all</td>\n",
              "      <td>0</td>\n",
              "    </tr>\n",
              "    <tr>\n",
              "      <th>3</th>\n",
              "      <td>516062</td>\n",
              "      <td>11463</td>\n",
              "      <td>None</td>\n",
              "      <td>2015-12-01</td>\n",
              "      <td>0</td>\n",
              "      <td>None</td>\n",
              "      <td>None</td>\n",
              "      <td>00. known user</td>\n",
              "      <td>0</td>\n",
              "      <td>0</td>\n",
              "      <td>2</td>\n",
              "      <td>2</td>\n",
              "      <td>0</td>\n",
              "      <td>0</td>\n",
              "      <td>0</td>\n",
              "      <td>4.0</td>\n",
              "      <td>3.0</td>\n",
              "      <td>NaN</td>\n",
              "      <td>NaN</td>\n",
              "      <td>NaN</td>\n",
              "      <td>NaN</td>\n",
              "      <td>None</td>\n",
              "      <td>None</td>\n",
              "      <td>None</td>\n",
              "      <td>None</td>\n",
              "      <td>ID</td>\n",
              "      <td>False</td>\n",
              "      <td>0</td>\n",
              "      <td>NaN</td>\n",
              "      <td>NaN</td>\n",
              "      <td>NaN</td>\n",
              "      <td>0</td>\n",
              "      <td>0</td>\n",
              "      <td>NaN</td>\n",
              "      <td>None</td>\n",
              "      <td>None</td>\n",
              "      <td>None</td>\n",
              "      <td>None</td>\n",
              "      <td>False</td>\n",
              "      <td>False</td>\n",
              "      <td>all</td>\n",
              "      <td>0</td>\n",
              "    </tr>\n",
              "    <tr>\n",
              "      <th>4</th>\n",
              "      <td>1288749</td>\n",
              "      <td>80984</td>\n",
              "      <td>None</td>\n",
              "      <td>2015-12-01</td>\n",
              "      <td>0</td>\n",
              "      <td>2014-06-01</td>\n",
              "      <td>2014-08-01</td>\n",
              "      <td>11. hibernating</td>\n",
              "      <td>3</td>\n",
              "      <td>1</td>\n",
              "      <td>1</td>\n",
              "      <td>1</td>\n",
              "      <td>1</td>\n",
              "      <td>1</td>\n",
              "      <td>5</td>\n",
              "      <td>3.0</td>\n",
              "      <td>3.0</td>\n",
              "      <td>3.0</td>\n",
              "      <td>205.416</td>\n",
              "      <td>0.0</td>\n",
              "      <td>0.0</td>\n",
              "      <td>None</td>\n",
              "      <td>None</td>\n",
              "      <td>None</td>\n",
              "      <td>None</td>\n",
              "      <td>ID</td>\n",
              "      <td>False</td>\n",
              "      <td>0</td>\n",
              "      <td>0.0</td>\n",
              "      <td>0.0</td>\n",
              "      <td>0.0</td>\n",
              "      <td>0</td>\n",
              "      <td>0</td>\n",
              "      <td>0.0</td>\n",
              "      <td>None</td>\n",
              "      <td>None</td>\n",
              "      <td>None</td>\n",
              "      <td>None</td>\n",
              "      <td>True</td>\n",
              "      <td>True</td>\n",
              "      <td>all</td>\n",
              "      <td>1</td>\n",
              "    </tr>\n",
              "  </tbody>\n",
              "</table>\n",
              "</div>"
            ],
            "text/plain": [
              "   row_num  profile_id last_ads_id  ... is_churn  product product_breadth\n",
              "0  1455216       10144        None  ...    False      all               0\n",
              "1  1488411       10161        None  ...    False      all               0\n",
              "2   359548       10174        None  ...    False      all               0\n",
              "3   516062       11463        None  ...    False      all               0\n",
              "4  1288749       80984        None  ...     True      all               1\n",
              "\n",
              "[5 rows x 42 columns]"
            ]
          },
          "metadata": {
            "tags": []
          },
          "execution_count": 36
        }
      ]
    },
    {
      "cell_type": "code",
      "metadata": {
        "id": "mz1Z4H6yJ07k",
        "colab_type": "code",
        "outputId": "e0e2c8ac-13b4-4b29-c973-8efd25eb9008",
        "colab": {
          "base_uri": "https://localhost:8080/",
          "height": 317
        }
      },
      "source": [
        "#Descriptive statistics\n",
        "df_latest.describe()"
      ],
      "execution_count": 0,
      "outputs": [
        {
          "output_type": "execute_result",
          "data": {
            "text/html": [
              "<div>\n",
              "<style scoped>\n",
              "    .dataframe tbody tr th:only-of-type {\n",
              "        vertical-align: middle;\n",
              "    }\n",
              "\n",
              "    .dataframe tbody tr th {\n",
              "        vertical-align: top;\n",
              "    }\n",
              "\n",
              "    .dataframe thead th {\n",
              "        text-align: right;\n",
              "    }\n",
              "</style>\n",
              "<table border=\"1\" class=\"dataframe\">\n",
              "  <thead>\n",
              "    <tr style=\"text-align: right;\">\n",
              "      <th></th>\n",
              "      <th>row_num</th>\n",
              "      <th>profile_id</th>\n",
              "      <th>churn_cut_off</th>\n",
              "      <th>bucket_gbv_usd_all</th>\n",
              "      <th>bucket_issued_1y</th>\n",
              "      <th>bucket_visit_1y</th>\n",
              "      <th>bucket_search_1y</th>\n",
              "      <th>bucket_gbv_1y</th>\n",
              "      <th>bucket_netrev_1y</th>\n",
              "      <th>bucket_coupon_1y</th>\n",
              "      <th>visit_count_all</th>\n",
              "      <th>search_count_all</th>\n",
              "      <th>issued_count_all</th>\n",
              "      <th>gbv_usd_all</th>\n",
              "      <th>net_revenue_usd_all</th>\n",
              "      <th>coupon_usage_usd_all</th>\n",
              "      <th>is_subscribed</th>\n",
              "      <th>issued_count</th>\n",
              "      <th>sum_gbv_usd</th>\n",
              "      <th>net_revenue_usd</th>\n",
              "      <th>search_count</th>\n",
              "      <th>visit_count</th>\n",
              "      <th>coupon_usage_usd</th>\n",
              "      <th>product_breadth</th>\n",
              "    </tr>\n",
              "  </thead>\n",
              "  <tbody>\n",
              "    <tr>\n",
              "      <th>count</th>\n",
              "      <td>1.722330e+05</td>\n",
              "      <td>1.722330e+05</td>\n",
              "      <td>172233.000000</td>\n",
              "      <td>172233.000000</td>\n",
              "      <td>172233.000000</td>\n",
              "      <td>172233.000000</td>\n",
              "      <td>172233.000000</td>\n",
              "      <td>172233.000000</td>\n",
              "      <td>172233.000000</td>\n",
              "      <td>172233.000000</td>\n",
              "      <td>159917.000000</td>\n",
              "      <td>157414.000000</td>\n",
              "      <td>129498.000000</td>\n",
              "      <td>129498.000000</td>\n",
              "      <td>129498.000000</td>\n",
              "      <td>129498.000000</td>\n",
              "      <td>172233.000000</td>\n",
              "      <td>129498.000000</td>\n",
              "      <td>129498.000000</td>\n",
              "      <td>129498.000000</td>\n",
              "      <td>172233.000000</td>\n",
              "      <td>172233.000000</td>\n",
              "      <td>129498.000000</td>\n",
              "      <td>172233.000000</td>\n",
              "    </tr>\n",
              "    <tr>\n",
              "      <th>mean</th>\n",
              "      <td>8.348213e+05</td>\n",
              "      <td>5.038983e+06</td>\n",
              "      <td>0.273676</td>\n",
              "      <td>2.288266</td>\n",
              "      <td>2.199352</td>\n",
              "      <td>2.296151</td>\n",
              "      <td>2.517561</td>\n",
              "      <td>2.482904</td>\n",
              "      <td>2.106286</td>\n",
              "      <td>3.511714</td>\n",
              "      <td>21.714877</td>\n",
              "      <td>30.872870</td>\n",
              "      <td>5.110210</td>\n",
              "      <td>435.832663</td>\n",
              "      <td>8.654726</td>\n",
              "      <td>-2.569641</td>\n",
              "      <td>0.090976</td>\n",
              "      <td>0.537885</td>\n",
              "      <td>50.265405</td>\n",
              "      <td>0.899145</td>\n",
              "      <td>5.269356</td>\n",
              "      <td>1.916514</td>\n",
              "      <td>-0.386578</td>\n",
              "      <td>0.873927</td>\n",
              "    </tr>\n",
              "    <tr>\n",
              "      <th>std</th>\n",
              "      <td>4.827266e+05</td>\n",
              "      <td>1.771408e+06</td>\n",
              "      <td>2.548207</td>\n",
              "      <td>1.746693</td>\n",
              "      <td>1.706439</td>\n",
              "      <td>0.957706</td>\n",
              "      <td>1.100677</td>\n",
              "      <td>1.843571</td>\n",
              "      <td>1.729441</td>\n",
              "      <td>2.176030</td>\n",
              "      <td>82.375558</td>\n",
              "      <td>126.319475</td>\n",
              "      <td>13.378052</td>\n",
              "      <td>1250.160036</td>\n",
              "      <td>43.712991</td>\n",
              "      <td>21.514756</td>\n",
              "      <td>0.300991</td>\n",
              "      <td>1.406852</td>\n",
              "      <td>174.439699</td>\n",
              "      <td>6.533699</td>\n",
              "      <td>43.251045</td>\n",
              "      <td>7.011533</td>\n",
              "      <td>3.220153</td>\n",
              "      <td>0.597716</td>\n",
              "    </tr>\n",
              "    <tr>\n",
              "      <th>min</th>\n",
              "      <td>2.000000e+01</td>\n",
              "      <td>1.000900e+04</td>\n",
              "      <td>0.000000</td>\n",
              "      <td>0.000000</td>\n",
              "      <td>0.000000</td>\n",
              "      <td>1.000000</td>\n",
              "      <td>1.000000</td>\n",
              "      <td>0.000000</td>\n",
              "      <td>0.000000</td>\n",
              "      <td>0.000000</td>\n",
              "      <td>1.000000</td>\n",
              "      <td>1.000000</td>\n",
              "      <td>1.000000</td>\n",
              "      <td>0.000000</td>\n",
              "      <td>-5908.847651</td>\n",
              "      <td>-3396.100000</td>\n",
              "      <td>-1.000000</td>\n",
              "      <td>0.000000</td>\n",
              "      <td>0.000000</td>\n",
              "      <td>-163.230367</td>\n",
              "      <td>0.000000</td>\n",
              "      <td>0.000000</td>\n",
              "      <td>-181.804174</td>\n",
              "      <td>0.000000</td>\n",
              "    </tr>\n",
              "    <tr>\n",
              "      <th>25%</th>\n",
              "      <td>4.173900e+05</td>\n",
              "      <td>3.972845e+06</td>\n",
              "      <td>0.000000</td>\n",
              "      <td>1.000000</td>\n",
              "      <td>1.000000</td>\n",
              "      <td>2.000000</td>\n",
              "      <td>2.000000</td>\n",
              "      <td>1.000000</td>\n",
              "      <td>1.000000</td>\n",
              "      <td>1.000000</td>\n",
              "      <td>2.000000</td>\n",
              "      <td>1.000000</td>\n",
              "      <td>1.000000</td>\n",
              "      <td>68.273225</td>\n",
              "      <td>0.000000</td>\n",
              "      <td>0.000000</td>\n",
              "      <td>0.000000</td>\n",
              "      <td>0.000000</td>\n",
              "      <td>0.000000</td>\n",
              "      <td>0.000000</td>\n",
              "      <td>0.000000</td>\n",
              "      <td>0.000000</td>\n",
              "      <td>0.000000</td>\n",
              "      <td>1.000000</td>\n",
              "    </tr>\n",
              "    <tr>\n",
              "      <th>50%</th>\n",
              "      <td>8.344030e+05</td>\n",
              "      <td>5.239904e+06</td>\n",
              "      <td>0.000000</td>\n",
              "      <td>2.000000</td>\n",
              "      <td>2.000000</td>\n",
              "      <td>2.000000</td>\n",
              "      <td>2.000000</td>\n",
              "      <td>3.000000</td>\n",
              "      <td>2.000000</td>\n",
              "      <td>5.000000</td>\n",
              "      <td>4.000000</td>\n",
              "      <td>4.000000</td>\n",
              "      <td>2.000000</td>\n",
              "      <td>165.828000</td>\n",
              "      <td>3.296425</td>\n",
              "      <td>0.000000</td>\n",
              "      <td>0.000000</td>\n",
              "      <td>0.000000</td>\n",
              "      <td>0.000000</td>\n",
              "      <td>0.000000</td>\n",
              "      <td>0.000000</td>\n",
              "      <td>0.000000</td>\n",
              "      <td>0.000000</td>\n",
              "      <td>1.000000</td>\n",
              "    </tr>\n",
              "    <tr>\n",
              "      <th>75%</th>\n",
              "      <td>1.253962e+06</td>\n",
              "      <td>6.425150e+06</td>\n",
              "      <td>0.000000</td>\n",
              "      <td>4.000000</td>\n",
              "      <td>4.000000</td>\n",
              "      <td>3.000000</td>\n",
              "      <td>3.000000</td>\n",
              "      <td>4.000000</td>\n",
              "      <td>4.000000</td>\n",
              "      <td>5.000000</td>\n",
              "      <td>15.000000</td>\n",
              "      <td>21.000000</td>\n",
              "      <td>5.000000</td>\n",
              "      <td>421.594842</td>\n",
              "      <td>10.559825</td>\n",
              "      <td>0.000000</td>\n",
              "      <td>0.000000</td>\n",
              "      <td>1.000000</td>\n",
              "      <td>28.433500</td>\n",
              "      <td>0.000000</td>\n",
              "      <td>1.000000</td>\n",
              "      <td>1.000000</td>\n",
              "      <td>0.000000</td>\n",
              "      <td>1.000000</td>\n",
              "    </tr>\n",
              "    <tr>\n",
              "      <th>max</th>\n",
              "      <td>1.672317e+06</td>\n",
              "      <td>1.110133e+07</td>\n",
              "      <td>24.000000</td>\n",
              "      <td>5.000000</td>\n",
              "      <td>5.000000</td>\n",
              "      <td>5.000000</td>\n",
              "      <td>5.000000</td>\n",
              "      <td>5.000000</td>\n",
              "      <td>5.000000</td>\n",
              "      <td>5.000000</td>\n",
              "      <td>8804.000000</td>\n",
              "      <td>10450.000000</td>\n",
              "      <td>1256.000000</td>\n",
              "      <td>173022.507957</td>\n",
              "      <td>3704.895207</td>\n",
              "      <td>0.000000</td>\n",
              "      <td>1.000000</td>\n",
              "      <td>65.000000</td>\n",
              "      <td>10511.257300</td>\n",
              "      <td>329.578214</td>\n",
              "      <td>10404.000000</td>\n",
              "      <td>565.000000</td>\n",
              "      <td>0.000000</td>\n",
              "      <td>3.000000</td>\n",
              "    </tr>\n",
              "  </tbody>\n",
              "</table>\n",
              "</div>"
            ],
            "text/plain": [
              "            row_num    profile_id  ...  coupon_usage_usd  product_breadth\n",
              "count  1.722330e+05  1.722330e+05  ...     129498.000000    172233.000000\n",
              "mean   8.348213e+05  5.038983e+06  ...         -0.386578         0.873927\n",
              "std    4.827266e+05  1.771408e+06  ...          3.220153         0.597716\n",
              "min    2.000000e+01  1.000900e+04  ...       -181.804174         0.000000\n",
              "25%    4.173900e+05  3.972845e+06  ...          0.000000         1.000000\n",
              "50%    8.344030e+05  5.239904e+06  ...          0.000000         1.000000\n",
              "75%    1.253962e+06  6.425150e+06  ...          0.000000         1.000000\n",
              "max    1.672317e+06  1.110133e+07  ...          0.000000         3.000000\n",
              "\n",
              "[8 rows x 24 columns]"
            ]
          },
          "metadata": {
            "tags": []
          },
          "execution_count": 37
        }
      ]
    },
    {
      "cell_type": "code",
      "metadata": {
        "id": "Vj6N-RSULVne",
        "colab_type": "code",
        "outputId": "96d810c8-4589-46d5-bc73-f2cf002975cd",
        "colab": {
          "base_uri": "https://localhost:8080/",
          "height": 669
        }
      },
      "source": [
        "#Check missing data\n",
        "total = df_latest.isnull().sum().sort_values(ascending=False)\n",
        "percent = (df_latest.isnull().sum()/df_latest.isnull().count()*100).sort_values(ascending=False)\n",
        "missing_data = pd.concat([total, percent], axis=1, keys=['Total', 'Percent'])\n",
        "missing_data.head(20)"
      ],
      "execution_count": 0,
      "outputs": [
        {
          "output_type": "execute_result",
          "data": {
            "text/html": [
              "<div>\n",
              "<style scoped>\n",
              "    .dataframe tbody tr th:only-of-type {\n",
              "        vertical-align: middle;\n",
              "    }\n",
              "\n",
              "    .dataframe tbody tr th {\n",
              "        vertical-align: top;\n",
              "    }\n",
              "\n",
              "    .dataframe thead th {\n",
              "        text-align: right;\n",
              "    }\n",
              "</style>\n",
              "<table border=\"1\" class=\"dataframe\">\n",
              "  <thead>\n",
              "    <tr style=\"text-align: right;\">\n",
              "      <th></th>\n",
              "      <th>Total</th>\n",
              "      <th>Percent</th>\n",
              "    </tr>\n",
              "  </thead>\n",
              "  <tbody>\n",
              "    <tr>\n",
              "      <th>selling_points</th>\n",
              "      <td>172233</td>\n",
              "      <td>100.000000</td>\n",
              "    </tr>\n",
              "    <tr>\n",
              "      <th>burnt_external_points</th>\n",
              "      <td>172233</td>\n",
              "      <td>100.000000</td>\n",
              "    </tr>\n",
              "    <tr>\n",
              "      <th>burnt_internal_points</th>\n",
              "      <td>172233</td>\n",
              "      <td>100.000000</td>\n",
              "    </tr>\n",
              "    <tr>\n",
              "      <th>earned_points</th>\n",
              "      <td>172233</td>\n",
              "      <td>100.000000</td>\n",
              "    </tr>\n",
              "    <tr>\n",
              "      <th>burnt_external_points_all</th>\n",
              "      <td>172233</td>\n",
              "      <td>100.000000</td>\n",
              "    </tr>\n",
              "    <tr>\n",
              "      <th>burnt_internal_points_all</th>\n",
              "      <td>172233</td>\n",
              "      <td>100.000000</td>\n",
              "    </tr>\n",
              "    <tr>\n",
              "      <th>earned_points_all</th>\n",
              "      <td>172233</td>\n",
              "      <td>100.000000</td>\n",
              "    </tr>\n",
              "    <tr>\n",
              "      <th>selling_points_all</th>\n",
              "      <td>172233</td>\n",
              "      <td>100.000000</td>\n",
              "    </tr>\n",
              "    <tr>\n",
              "      <th>last_ads_id</th>\n",
              "      <td>112527</td>\n",
              "      <td>65.334169</td>\n",
              "    </tr>\n",
              "    <tr>\n",
              "      <th>coupon_usage_usd_all</th>\n",
              "      <td>42735</td>\n",
              "      <td>24.812318</td>\n",
              "    </tr>\n",
              "    <tr>\n",
              "      <th>first_issued_month</th>\n",
              "      <td>42735</td>\n",
              "      <td>24.812318</td>\n",
              "    </tr>\n",
              "    <tr>\n",
              "      <th>issued_count_all</th>\n",
              "      <td>42735</td>\n",
              "      <td>24.812318</td>\n",
              "    </tr>\n",
              "    <tr>\n",
              "      <th>gbv_usd_all</th>\n",
              "      <td>42735</td>\n",
              "      <td>24.812318</td>\n",
              "    </tr>\n",
              "    <tr>\n",
              "      <th>net_revenue_usd_all</th>\n",
              "      <td>42735</td>\n",
              "      <td>24.812318</td>\n",
              "    </tr>\n",
              "    <tr>\n",
              "      <th>last_issued_month</th>\n",
              "      <td>42735</td>\n",
              "      <td>24.812318</td>\n",
              "    </tr>\n",
              "    <tr>\n",
              "      <th>issued_count</th>\n",
              "      <td>42735</td>\n",
              "      <td>24.812318</td>\n",
              "    </tr>\n",
              "    <tr>\n",
              "      <th>sum_gbv_usd</th>\n",
              "      <td>42735</td>\n",
              "      <td>24.812318</td>\n",
              "    </tr>\n",
              "    <tr>\n",
              "      <th>net_revenue_usd</th>\n",
              "      <td>42735</td>\n",
              "      <td>24.812318</td>\n",
              "    </tr>\n",
              "    <tr>\n",
              "      <th>coupon_usage_usd</th>\n",
              "      <td>42735</td>\n",
              "      <td>24.812318</td>\n",
              "    </tr>\n",
              "    <tr>\n",
              "      <th>search_count_all</th>\n",
              "      <td>14819</td>\n",
              "      <td>8.604042</td>\n",
              "    </tr>\n",
              "  </tbody>\n",
              "</table>\n",
              "</div>"
            ],
            "text/plain": [
              "                            Total     Percent\n",
              "selling_points             172233  100.000000\n",
              "burnt_external_points      172233  100.000000\n",
              "burnt_internal_points      172233  100.000000\n",
              "earned_points              172233  100.000000\n",
              "burnt_external_points_all  172233  100.000000\n",
              "burnt_internal_points_all  172233  100.000000\n",
              "earned_points_all          172233  100.000000\n",
              "selling_points_all         172233  100.000000\n",
              "last_ads_id                112527   65.334169\n",
              "coupon_usage_usd_all        42735   24.812318\n",
              "first_issued_month          42735   24.812318\n",
              "issued_count_all            42735   24.812318\n",
              "gbv_usd_all                 42735   24.812318\n",
              "net_revenue_usd_all         42735   24.812318\n",
              "last_issued_month           42735   24.812318\n",
              "issued_count                42735   24.812318\n",
              "sum_gbv_usd                 42735   24.812318\n",
              "net_revenue_usd             42735   24.812318\n",
              "coupon_usage_usd            42735   24.812318\n",
              "search_count_all            14819    8.604042"
            ]
          },
          "metadata": {
            "tags": []
          },
          "execution_count": 9
        }
      ]
    },
    {
      "cell_type": "markdown",
      "metadata": {
        "id": "x5HRWAxH_C1E",
        "colab_type": "text"
      },
      "source": [
        "By checking numbers of null entries for each column in the dataset, it can be observed that columns related to Traveloka points all have null values and thus cannot be used in the analysis. Another interesting thing is all columns related to purchase summary (issued_count, gbv_usd_all,etc) has exactly same number of null entries. Why is that?"
      ]
    },
    {
      "cell_type": "code",
      "metadata": {
        "id": "baY9xOCw-vLm",
        "colab_type": "code",
        "outputId": "28b0c808-df7d-41e5-ce99-61d96b0764b6",
        "colab": {
          "base_uri": "https://localhost:8080/",
          "height": 452
        }
      },
      "source": [
        "summ=df_latest.groupby('lifecycle')['profile_id'].count().reset_index()\n",
        "summ['Percentage'] = 100 * summ['profile_id']  / summ['profile_id'].sum()\n",
        "summ"
      ],
      "execution_count": 0,
      "outputs": [
        {
          "output_type": "execute_result",
          "data": {
            "text/html": [
              "<div>\n",
              "<style scoped>\n",
              "    .dataframe tbody tr th:only-of-type {\n",
              "        vertical-align: middle;\n",
              "    }\n",
              "\n",
              "    .dataframe tbody tr th {\n",
              "        vertical-align: top;\n",
              "    }\n",
              "\n",
              "    .dataframe thead th {\n",
              "        text-align: right;\n",
              "    }\n",
              "</style>\n",
              "<table border=\"1\" class=\"dataframe\">\n",
              "  <thead>\n",
              "    <tr style=\"text-align: right;\">\n",
              "      <th></th>\n",
              "      <th>lifecycle</th>\n",
              "      <th>profile_id</th>\n",
              "      <th>Percentage</th>\n",
              "    </tr>\n",
              "  </thead>\n",
              "  <tbody>\n",
              "    <tr>\n",
              "      <th>0</th>\n",
              "      <td>00. known user</td>\n",
              "      <td>42735</td>\n",
              "      <td>24.812318</td>\n",
              "    </tr>\n",
              "    <tr>\n",
              "      <th>1</th>\n",
              "      <td>01. first time customer</td>\n",
              "      <td>12131</td>\n",
              "      <td>7.043366</td>\n",
              "    </tr>\n",
              "    <tr>\n",
              "      <th>2</th>\n",
              "      <td>02. recent customer</td>\n",
              "      <td>17722</td>\n",
              "      <td>10.289550</td>\n",
              "    </tr>\n",
              "    <tr>\n",
              "      <th>3</th>\n",
              "      <td>03. promising customer</td>\n",
              "      <td>25005</td>\n",
              "      <td>14.518124</td>\n",
              "    </tr>\n",
              "    <tr>\n",
              "      <th>4</th>\n",
              "      <td>04. potential loyalist</td>\n",
              "      <td>12477</td>\n",
              "      <td>7.244256</td>\n",
              "    </tr>\n",
              "    <tr>\n",
              "      <th>5</th>\n",
              "      <td>05. loyal customer</td>\n",
              "      <td>8958</td>\n",
              "      <td>5.201094</td>\n",
              "    </tr>\n",
              "    <tr>\n",
              "      <th>6</th>\n",
              "      <td>06. champions</td>\n",
              "      <td>18280</td>\n",
              "      <td>10.613529</td>\n",
              "    </tr>\n",
              "    <tr>\n",
              "      <th>7</th>\n",
              "      <td>07. need attention</td>\n",
              "      <td>1839</td>\n",
              "      <td>1.067740</td>\n",
              "    </tr>\n",
              "    <tr>\n",
              "      <th>8</th>\n",
              "      <td>08. about to sleep</td>\n",
              "      <td>19029</td>\n",
              "      <td>11.048405</td>\n",
              "    </tr>\n",
              "    <tr>\n",
              "      <th>9</th>\n",
              "      <td>09. at risk</td>\n",
              "      <td>1164</td>\n",
              "      <td>0.675829</td>\n",
              "    </tr>\n",
              "    <tr>\n",
              "      <th>10</th>\n",
              "      <td>10. cant lose them</td>\n",
              "      <td>61</td>\n",
              "      <td>0.035417</td>\n",
              "    </tr>\n",
              "    <tr>\n",
              "      <th>11</th>\n",
              "      <td>11. hibernating</td>\n",
              "      <td>3567</td>\n",
              "      <td>2.071032</td>\n",
              "    </tr>\n",
              "    <tr>\n",
              "      <th>12</th>\n",
              "      <td>12. lost / lapsed / churn</td>\n",
              "      <td>9265</td>\n",
              "      <td>5.379341</td>\n",
              "    </tr>\n",
              "  </tbody>\n",
              "</table>\n",
              "</div>"
            ],
            "text/plain": [
              "                    lifecycle  profile_id  Percentage\n",
              "0              00. known user       42735   24.812318\n",
              "1     01. first time customer       12131    7.043366\n",
              "2         02. recent customer       17722   10.289550\n",
              "3      03. promising customer       25005   14.518124\n",
              "4      04. potential loyalist       12477    7.244256\n",
              "5          05. loyal customer        8958    5.201094\n",
              "6               06. champions       18280   10.613529\n",
              "7          07. need attention        1839    1.067740\n",
              "8          08. about to sleep       19029   11.048405\n",
              "9                 09. at risk        1164    0.675829\n",
              "10         10. cant lose them          61    0.035417\n",
              "11            11. hibernating        3567    2.071032\n",
              "12  12. lost / lapsed / churn        9265    5.379341"
            ]
          },
          "metadata": {
            "tags": []
          },
          "execution_count": 25
        }
      ]
    },
    {
      "cell_type": "markdown",
      "metadata": {
        "id": "Ew_Tn1O0FdoA",
        "colab_type": "text"
      },
      "source": [
        "We found that one of lifecycle class, \"known user\" has same number of entries with number of null entries from purchase-related columns (42375), and from further check it is confirmed that all purchase-related columns in this class has null values. It can be concluded that this segment is segment who never made any issuance, hence null values for purchase summary data."
      ]
    },
    {
      "cell_type": "code",
      "metadata": {
        "id": "Kpe3soqGGzvk",
        "colab_type": "code",
        "outputId": "845e4bea-a26f-4ab1-a4cf-2f99f0d77054",
        "colab": {
          "base_uri": "https://localhost:8080/",
          "height": 337
        }
      },
      "source": [
        ""
      ],
      "execution_count": 0,
      "outputs": [
        {
          "output_type": "display_data",
          "data": {
            "image/png": "[encoded data removed]",
            "text/plain": [
              "<Figure size 720x360 with 1 Axes>"
            ]
          },
          "metadata": {
            "tags": []
          }
        }
      ]
    },
    {
      "cell_type": "code",
      "metadata": {
        "id": "NIrrK9pXHGKo",
        "colab_type": "code",
        "outputId": "afbd0452-6c9f-4f51-da40-9c8b3d7e4ce7",
        "colab": {
          "base_uri": "https://localhost:8080/",
          "height": 337
        }
      },
      "source": [
        "# Count plot by lifecycle\n",
        "plt.figure(1 , figsize = (10 , 5))\n",
        "sns.countplot(y = 'lifecycle' , data = df_latest)\n",
        "plt.show()"
      ],
      "execution_count": 0,
      "outputs": [
        {
          "output_type": "display_data",
          "data": {
            "image/png": "[encoded data removed]",
            "text/plain": [
              "<Figure size 720x360 with 1 Axes>"
            ]
          },
          "metadata": {
            "tags": []
          }
        }
      ]
    },
    {
      "cell_type": "code",
      "metadata": {
        "id": "OPn1T4q-KsNs",
        "colab_type": "code",
        "outputId": "70619883-a3cb-4f25-c44b-0154f983fd7d",
        "colab": {
          "base_uri": "https://localhost:8080/",
          "height": 337
        }
      },
      "source": [
        "# Count plot by country\n",
        "plt.figure(1 , figsize = (10 , 5))\n",
        "sns.countplot(y = 'country' , data = df_latest)\n",
        "plt.show()"
      ],
      "execution_count": 0,
      "outputs": [
        {
          "output_type": "display_data",
          "data": {
            "image/png": "[encoded data removed]",
            "text/plain": [
              "<Figure size 720x360 with 1 Axes>"
            ]
          },
          "metadata": {
            "tags": []
          }
        }
      ]
    },
    {
      "cell_type": "markdown",
      "metadata": {
        "id": "uvuwIK_MC1uC",
        "colab_type": "text"
      },
      "source": [
        "#Further visualization will be done in Tableau workbook"
      ]
    },
    {
      "cell_type": "markdown",
      "metadata": {
        "id": "d7jwQE2_hAu4",
        "colab_type": "text"
      },
      "source": [
        " # Presentation"
      ]
    },
    {
      "cell_type": "code",
      "metadata": {
        "id": "3As8Kp82hEki",
        "colab_type": "code",
        "colab": {
          "base_uri": "https://localhost:8080/",
          "height": 139
        },
        "outputId": "369e1638-a726-4712-c3bf-4762ddd6dc71"
      },
      "source": [
        "from google.colab import drive\n",
        "drive.mount('/gdrive')\n",
        "%cd /gdrive"
      ],
      "execution_count": 1,
      "outputs": [
        {
          "output_type": "stream",
          "text": [
            "Go to this URL in a browser: https://accounts.google.com/o/oauth2/auth?client_id=947318989803-6bn6qk8qdgf4n4g3pfee6491hc0brc4i.apps.googleusercontent.com&redirect_uri=urn%3Aietf%3Awg%3Aoauth%3A2.0%3Aoob&scope=email%20https%3A%2F%2Fwww.googleapis.com%2Fauth%2Fdocs.test%20https%3A%2F%2Fwww.googleapis.com%2Fauth%2Fdrive%20https%3A%2F%2Fwww.googleapis.com%2Fauth%2Fdrive.photos.readonly%20https%3A%2F%2Fwww.googleapis.com%2Fauth%2Fpeopleapi.readonly&response_type=code\n",
            "\n",
            "Enter your authorization code:\n",
            "··········\n",
            "Mounted at /gdrive\n",
            "/gdrive\n"
          ],
          "name": "stdout"
        }
      ]
    },
    {
      "cell_type": "markdown",
      "metadata": {
        "id": "WpqH0gJvh6H-",
        "colab_type": "text"
      },
      "source": [
        "https://docs.google.com/presentation/d/1Lx1-9gzBvE1gXH76mW5Sjh2tvmtqg-034AeXa2BYSUo/edit?usp=sharing"
      ]
    },
    {
      "cell_type": "code",
      "metadata": {
        "id": "TyLK2jk_h3v5",
        "colab_type": "code",
        "colab": {}
      },
      "source": [
        ""
      ],
      "execution_count": 0,
      "outputs": []
    }
  ]
}